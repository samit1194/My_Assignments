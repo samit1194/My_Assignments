{
 "cells": [
  {
   "cell_type": "markdown",
   "metadata": {},
   "source": [
    "## Question 1.1"
   ]
  },
  {
   "cell_type": "markdown",
   "metadata": {},
   "source": [
    "1.1 Write a Python Program to implement your own myreduce() function which works exactly like Python's built-in function reduce()\n"
   ]
  },
  {
   "cell_type": "code",
   "execution_count": 67,
   "metadata": {},
   "outputs": [],
   "source": [
    "import functools"
   ]
  },
  {
   "cell_type": "code",
   "execution_count": 68,
   "metadata": {},
   "outputs": [
    {
     "data": {
      "text/plain": [
       "'\\nmy_list = [1,3,5,7]\\nfinal_list = my_list[0]\\n\\nf = lambda x,y : x+y\\n\\nfor i in range(1,len(my_list)) :\\n    final_list = f(final_list , my_list[i])\\n    \\nfinal_list\\n\\n'"
      ]
     },
     "execution_count": 68,
     "metadata": {},
     "output_type": "execute_result"
    }
   ],
   "source": [
    "'''\n",
    "my_list = [1,3,5,7]\n",
    "final_list = my_list[0]\n",
    "\n",
    "f = lambda x,y : x+y\n",
    "\n",
    "for i in range(1,len(my_list)) :\n",
    "    final_list = f(final_list , my_list[i])\n",
    "    \n",
    "final_list\n",
    "\n",
    "'''"
   ]
  },
  {
   "cell_type": "code",
   "execution_count": 69,
   "metadata": {},
   "outputs": [],
   "source": [
    "def myreduce(func, my_list):\n",
    "    \n",
    "    final_list = my_list[0]\n",
    "    \n",
    "    for i in range(1,len(my_list)):\n",
    "        final_list = final_list + my_list[i]\n",
    "    \n",
    "    return final_list\n"
   ]
  },
  {
   "cell_type": "code",
   "execution_count": 70,
   "metadata": {},
   "outputs": [
    {
     "name": "stdout",
     "output_type": "stream",
     "text": [
      "myreduce:  16\n"
     ]
    }
   ],
   "source": [
    "# Cumulative Sum of the list\n",
    "f = lambda x,y : x+y\n",
    "inp1 = [1,3,5,7]\n",
    "print(\"myreduce: \",myreduce(f, inp1))"
   ]
  },
  {
   "cell_type": "code",
   "execution_count": null,
   "metadata": {},
   "outputs": [],
   "source": []
  },
  {
   "cell_type": "markdown",
   "metadata": {},
   "source": [
    "## Question 1.2"
   ]
  },
  {
   "cell_type": "markdown",
   "metadata": {},
   "source": [
    "1.2 Write a Python program to implement your own myfilter() function which works exactly\n",
    "like Python's built-in function filter()"
   ]
  },
  {
   "cell_type": "code",
   "execution_count": 71,
   "metadata": {},
   "outputs": [
    {
     "data": {
      "text/plain": [
       "'\\nmy_list = [1,3,5,7]\\n\\nfinal_list = []\\n\\nf = lambda x : x*2 \\n\\nfor i in my_list:\\n    final_list.append(f(i))\\n    \\nfinal_list\\n'"
      ]
     },
     "execution_count": 71,
     "metadata": {},
     "output_type": "execute_result"
    }
   ],
   "source": [
    "'''\n",
    "my_list = [1,3,5,7]\n",
    "\n",
    "final_list = []\n",
    "\n",
    "f = lambda x : x*2 \n",
    "\n",
    "for i in my_list:\n",
    "    final_list.append(f(i))\n",
    "    \n",
    "final_list\n",
    "'''"
   ]
  },
  {
   "cell_type": "code",
   "execution_count": 72,
   "metadata": {},
   "outputs": [],
   "source": [
    "def myfilter(func,my_list):\n",
    "    final_list = [] \n",
    "    for element in my_list : \n",
    "        final_list.append(func(element))\n",
    "    return(final_list)"
   ]
  },
  {
   "cell_type": "code",
   "execution_count": 73,
   "metadata": {},
   "outputs": [
    {
     "name": "stdout",
     "output_type": "stream",
     "text": [
      "myfilter :  [2, 6, 10, 14, 18]\n"
     ]
    }
   ],
   "source": [
    "# multiplied by 2\n",
    "\n",
    "f = lambda x : x*2\n",
    "inp1 = [1,3,5,7,9]\n",
    "print(\"myfilter : \",myfilter(f, inp1))\n",
    "#print(\"filter : \",list(filter(f , inp1)))"
   ]
  },
  {
   "cell_type": "code",
   "execution_count": 74,
   "metadata": {},
   "outputs": [
    {
     "name": "stdout",
     "output_type": "stream",
     "text": [
      "myfilter :  [1, 9, 25, 49, 81]\n"
     ]
    }
   ],
   "source": [
    "# Cubes of integers\n",
    "\n",
    "f = lambda x : x**2\n",
    "inp1 = [1,3,5,7,9]\n",
    "print(\"myfilter : \",myfilter(f, inp1))\n",
    "#print(\"filter : \",list(filter(f , inp1)))\n"
   ]
  },
  {
   "cell_type": "code",
   "execution_count": null,
   "metadata": {},
   "outputs": [],
   "source": []
  },
  {
   "cell_type": "markdown",
   "metadata": {},
   "source": [
    "## Question 2"
   ]
  },
  {
   "cell_type": "markdown",
   "metadata": {},
   "source": [
    "\n",
    "2. Implement List comprehensions to produce the following lists.\n",
    "Write List comprehensions to produce the following Lists\n",
    "\n",
    "['x', 'xx', 'xxx', 'xxxx', 'y', 'yy', 'yyy', 'yyyy', 'z', 'zz', 'zzz', 'zzzz']\n",
    "\n",
    "['x', 'y', 'z', 'xx', 'yy', 'zz', 'xxx', 'yyy', 'zzz', 'xxxx', 'yyyy', 'zzzz']\n",
    "\n",
    "[[2], [3], [4], [3], [4], [5], [4], [5], [6]]\n",
    "\n",
    "[[2, 3, 4, 5], [3, 4, 5, 6],[4, 5, 6, 7], [5, 6, 7, 8]]\n",
    "\n",
    "[(1, 1), (2, 1), (3, 1), (1, 2), (2, 2), (3, 2), (1, 3), (2, 3), (3, 3)]"
   ]
  },
  {
   "cell_type": "code",
   "execution_count": 75,
   "metadata": {},
   "outputs": [
    {
     "data": {
      "text/plain": [
       "[]"
      ]
     },
     "execution_count": 75,
     "metadata": {},
     "output_type": "execute_result"
    }
   ],
   "source": [
    "my_list = [\"x\",\"y\",\"z\"]\n",
    "final_list = []\n",
    "\n",
    "'''\n",
    "for i in my_list:\n",
    "    for j in range(1,5):\n",
    "        final_list.append(j*i)\n",
    "'''\n",
    "\n",
    "#final_list = [j*i for i in my_list for j in range(1,5)]\n",
    "final_list"
   ]
  },
  {
   "cell_type": "code",
   "execution_count": 76,
   "metadata": {},
   "outputs": [
    {
     "name": "stdout",
     "output_type": "stream",
     "text": [
      "['x', 'y', 'z', 'xx', 'yy', 'zz', 'xxx', 'yyy', 'zzz', 'xxxx', 'yyyy', 'zzzz']\n"
     ]
    }
   ],
   "source": [
    "my_list = [\"x\", \"y\", \"z\"]\n",
    "\n",
    "print([i*j for i in range(1,5) for j in my_list])"
   ]
  },
  {
   "cell_type": "code",
   "execution_count": 77,
   "metadata": {},
   "outputs": [
    {
     "data": {
      "text/plain": [
       "[[2], [3], [4], [3], [4], [5], [4], [5], [6]]"
      ]
     },
     "execution_count": 77,
     "metadata": {},
     "output_type": "execute_result"
    }
   ],
   "source": [
    "my_list = [2,3,4]\n",
    "final_list =[]\n",
    "'''\n",
    "for i in range(0, len(my_list)):\n",
    "    for j in my_list:\n",
    "        final_list.append([i+j])\n",
    "'''        \n",
    "final_list = [ [i+j] for i in range(0,len(my_list)) for j in my_list]\n",
    "final_list"
   ]
  },
  {
   "cell_type": "code",
   "execution_count": 78,
   "metadata": {},
   "outputs": [
    {
     "data": {
      "text/plain": [
       "[[2, 3, 4, 5], [3, 4, 5, 6], [4, 5, 6, 7], [5, 6, 7, 8]]"
      ]
     },
     "execution_count": 78,
     "metadata": {},
     "output_type": "execute_result"
    }
   ],
   "source": [
    "my_list = [2,3,4,5]\n",
    "\n",
    "mid_list = [] \n",
    "final_list = []\n",
    "'''\n",
    "for i in range(0,4):\n",
    "    for j in my_list:\n",
    "        mid_list.append(i+j)\n",
    "        \n",
    "    final_list.append(mid_list)\n",
    "    mid_list =[]\n",
    "'''    \n",
    "final_list = ([[i+j for i in my_list]for j in range(0,4)])\n",
    "final_list"
   ]
  },
  {
   "cell_type": "code",
   "execution_count": 79,
   "metadata": {},
   "outputs": [
    {
     "data": {
      "text/plain": [
       "[(1, 1), (2, 1), (3, 1), (1, 2), (2, 2), (3, 2), (1, 3), (2, 3), (3, 3)]"
      ]
     },
     "execution_count": 79,
     "metadata": {},
     "output_type": "execute_result"
    }
   ],
   "source": [
    "my_list = [1,2,3]\n",
    "final_list = []\n",
    "\n",
    "'''\n",
    "for i in range(1,4):\n",
    "    for j in range(1,4):\n",
    "        final_list.append((j,i))\n",
    "'''\n",
    "\n",
    "final_list = [ (j,i) for i in range(1,4) for j in range(1,4)]\n",
    "final_list"
   ]
  },
  {
   "cell_type": "code",
   "execution_count": null,
   "metadata": {},
   "outputs": [],
   "source": []
  },
  {
   "cell_type": "code",
   "execution_count": null,
   "metadata": {},
   "outputs": [],
   "source": []
  },
  {
   "cell_type": "code",
   "execution_count": null,
   "metadata": {},
   "outputs": [],
   "source": []
  }
 ],
 "metadata": {
  "kernelspec": {
   "display_name": "Python 3",
   "language": "python",
   "name": "python3"
  },
  "language_info": {
   "codemirror_mode": {
    "name": "ipython",
    "version": 3
   },
   "file_extension": ".py",
   "mimetype": "text/x-python",
   "name": "python",
   "nbconvert_exporter": "python",
   "pygments_lexer": "ipython3",
   "version": "3.7.4"
  }
 },
 "nbformat": 4,
 "nbformat_minor": 4
}
